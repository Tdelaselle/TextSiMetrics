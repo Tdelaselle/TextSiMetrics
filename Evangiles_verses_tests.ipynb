{
 "cells": [
  {
   "cell_type": "code",
   "execution_count": 1,
   "id": "5f782f76-c571-4c09-92b4-0e7b51cb9467",
   "metadata": {},
   "outputs": [
    {
     "name": "stderr",
     "output_type": "stream",
     "text": [
      "/usr/local/lib/python3.10/dist-packages/torch/cuda/__init__.py:654: UserWarning: Can't initialize NVML\n",
      "  warnings.warn(\"Can't initialize NVML\")\n"
     ]
    }
   ],
   "source": [
    "\"\"\"\n",
    "Created on July 2024\n",
    "@author: Théotime de la Selle\n",
    "\"\"\"\n",
    "\n",
    "import os, sys, time, random\n",
    "\n",
    "import pandas as pd\n",
    "import numpy as np\n",
    "import matplotlib.pyplot as plt\n",
    "\n",
    "import nltk as nl\n",
    "from nltk.tokenize import word_tokenize,wordpunct_tokenize\n",
    "from nltk.stem import WordNetLemmatizer,PorterStemmer\n",
    "from nltk.corpus import words\n",
    "from nltk.corpus import stopwords\n",
    "from nltk.tokenize import RegexpTokenizer\n",
    "from scipy.signal import correlate\n",
    "\n",
    "import cltk\n",
    "from cltk import NLP"
   ]
  },
  {
   "cell_type": "code",
   "execution_count": 2,
   "id": "e64e1970-a42e-4b2c-9600-247b7c009b71",
   "metadata": {},
   "outputs": [
    {
     "data": {
      "text/plain": [
       "\"\\nnltk.download('omw-1.4')\\nnltk.download('wordnet')\\nnltk.download('stopwords')\\nnltk.download('words')\\nnltk.download('punkt')\\n\""
      ]
     },
     "execution_count": 2,
     "metadata": {},
     "output_type": "execute_result"
    }
   ],
   "source": [
    "\"\"\"\n",
    "nltk.download('omw-1.4')\n",
    "nltk.download('wordnet')\n",
    "nltk.download('stopwords')\n",
    "nltk.download('words')\n",
    "nltk.download('punkt')\n",
    "\"\"\""
   ]
  },
  {
   "cell_type": "markdown",
   "id": "92282078-8154-49cd-a6b4-271f6e8fc092",
   "metadata": {},
   "source": [
    "# Load and verify data"
   ]
  },
  {
   "cell_type": "code",
   "execution_count": 3,
   "id": "99f96c3c-e1a6-4e09-9b49-a127dec1e653",
   "metadata": {},
   "outputs": [
    {
     "data": {
      "text/html": [
       "<div>\n",
       "<style scoped>\n",
       "    .dataframe tbody tr th:only-of-type {\n",
       "        vertical-align: middle;\n",
       "    }\n",
       "\n",
       "    .dataframe tbody tr th {\n",
       "        vertical-align: top;\n",
       "    }\n",
       "\n",
       "    .dataframe thead th {\n",
       "        text-align: right;\n",
       "    }\n",
       "</style>\n",
       "<table border=\"1\" class=\"dataframe\">\n",
       "  <thead>\n",
       "    <tr style=\"text-align: right;\">\n",
       "      <th></th>\n",
       "      <th>Verses</th>\n",
       "      <th>Text</th>\n",
       "    </tr>\n",
       "  </thead>\n",
       "  <tbody>\n",
       "    <tr>\n",
       "      <th>259</th>\n",
       "      <td>Mark 7:12</td>\n",
       "      <td>⸀οὐκέτι ἀφίετε αὐτὸν οὐδὲν ποιῆσαι τῷ ⸀πατρὶ ἢ...</td>\n",
       "    </tr>\n",
       "    <tr>\n",
       "      <th>133</th>\n",
       "      <td>Mark 4:26</td>\n",
       "      <td>Καὶ ἔλεγεν· Οὕτως ἐστὶν ἡ βασιλεία τοῦ θεοῦ ⸀ὡ...</td>\n",
       "    </tr>\n",
       "    <tr>\n",
       "      <th>599</th>\n",
       "      <td>Mark 14:65</td>\n",
       "      <td>καὶ ἤρξαντό τινες ἐμπτύειν αὐτῷ καὶ περικαλύπτ...</td>\n",
       "    </tr>\n",
       "    <tr>\n",
       "      <th>460</th>\n",
       "      <td>Mark 12:7</td>\n",
       "      <td>ἐκεῖνοι δὲ οἱ γεωργοὶ ⸂πρὸς ἑαυτοὺς εἶπαν⸃ ὅτι...</td>\n",
       "    </tr>\n",
       "    <tr>\n",
       "      <th>585</th>\n",
       "      <td>Mark 14:51</td>\n",
       "      <td>Καὶ ⸂νεανίσκος τις⸃ ⸀συνηκολούθει αὐτῷ περιβεβ...</td>\n",
       "    </tr>\n",
       "  </tbody>\n",
       "</table>\n",
       "</div>"
      ],
      "text/plain": [
       "         Verses                                               Text\n",
       "259   Mark 7:12  ⸀οὐκέτι ἀφίετε αὐτὸν οὐδὲν ποιῆσαι τῷ ⸀πατρὶ ἢ...\n",
       "133   Mark 4:26  Καὶ ἔλεγεν· Οὕτως ἐστὶν ἡ βασιλεία τοῦ θεοῦ ⸀ὡ...\n",
       "599  Mark 14:65  καὶ ἤρξαντό τινες ἐμπτύειν αὐτῷ καὶ περικαλύπτ...\n",
       "460   Mark 12:7  ἐκεῖνοι δὲ οἱ γεωργοὶ ⸂πρὸς ἑαυτοὺς εἶπαν⸃ ὅτι...\n",
       "585  Mark 14:51  Καὶ ⸂νεανίσκος τις⸃ ⸀συνηκολούθει αὐτῷ περιβεβ..."
      ]
     },
     "metadata": {},
     "output_type": "display_data"
    },
    {
     "data": {
      "text/plain": [
       "(673, 2)"
      ]
     },
     "metadata": {},
     "output_type": "display_data"
    },
    {
     "data": {
      "text/html": [
       "<div>\n",
       "<style scoped>\n",
       "    .dataframe tbody tr th:only-of-type {\n",
       "        vertical-align: middle;\n",
       "    }\n",
       "\n",
       "    .dataframe tbody tr th {\n",
       "        vertical-align: top;\n",
       "    }\n",
       "\n",
       "    .dataframe thead th {\n",
       "        text-align: right;\n",
       "    }\n",
       "</style>\n",
       "<table border=\"1\" class=\"dataframe\">\n",
       "  <thead>\n",
       "    <tr style=\"text-align: right;\">\n",
       "      <th></th>\n",
       "      <th>Verses</th>\n",
       "      <th>Text</th>\n",
       "    </tr>\n",
       "  </thead>\n",
       "  <tbody>\n",
       "    <tr>\n",
       "      <th>458</th>\n",
       "      <td>Matt 14:6</td>\n",
       "      <td>⸂γενεσίοις δὲ γενομένοις⸃ τοῦ Ἡρῴδου ὠρχήσατο ...</td>\n",
       "    </tr>\n",
       "    <tr>\n",
       "      <th>699</th>\n",
       "      <td>Matt 21:20</td>\n",
       "      <td>καὶ ἰδόντες οἱ μαθηταὶ ἐθαύμασαν λέγοντες· Πῶς...</td>\n",
       "    </tr>\n",
       "    <tr>\n",
       "      <th>830</th>\n",
       "      <td>Matt 24:21</td>\n",
       "      <td>ἔσται γὰρ τότε θλῖψις μεγάλη οἵα οὐ γέγονεν ἀπ...</td>\n",
       "    </tr>\n",
       "    <tr>\n",
       "      <th>927</th>\n",
       "      <td>Matt 26:21</td>\n",
       "      <td>καὶ ἐσθιόντων αὐτῶν εἶπεν· Ἀμὴν λέγω ὑμῖν ὅτι ...</td>\n",
       "    </tr>\n",
       "    <tr>\n",
       "      <th>722</th>\n",
       "      <td>Matt 21:43</td>\n",
       "      <td>διὰ τοῦτο λέγω ὑμῖν ὅτι ἀρθήσεται ἀφʼ ὑμῶν ἡ β...</td>\n",
       "    </tr>\n",
       "  </tbody>\n",
       "</table>\n",
       "</div>"
      ],
      "text/plain": [
       "         Verses                                               Text\n",
       "458   Matt 14:6  ⸂γενεσίοις δὲ γενομένοις⸃ τοῦ Ἡρῴδου ὠρχήσατο ...\n",
       "699  Matt 21:20  καὶ ἰδόντες οἱ μαθηταὶ ἐθαύμασαν λέγοντες· Πῶς...\n",
       "830  Matt 24:21  ἔσται γὰρ τότε θλῖψις μεγάλη οἵα οὐ γέγονεν ἀπ...\n",
       "927  Matt 26:21  καὶ ἐσθιόντων αὐτῶν εἶπεν· Ἀμὴν λέγω ὑμῖν ὅτι ...\n",
       "722  Matt 21:43  διὰ τοῦτο λέγω ὑμῖν ὅτι ἀρθήσεται ἀφʼ ὑμῶν ἡ β..."
      ]
     },
     "metadata": {},
     "output_type": "display_data"
    },
    {
     "data": {
      "text/plain": [
       "(1068, 2)"
      ]
     },
     "metadata": {},
     "output_type": "display_data"
    },
    {
     "data": {
      "text/html": [
       "<div>\n",
       "<style scoped>\n",
       "    .dataframe tbody tr th:only-of-type {\n",
       "        vertical-align: middle;\n",
       "    }\n",
       "\n",
       "    .dataframe tbody tr th {\n",
       "        vertical-align: top;\n",
       "    }\n",
       "\n",
       "    .dataframe thead th {\n",
       "        text-align: right;\n",
       "    }\n",
       "</style>\n",
       "<table border=\"1\" class=\"dataframe\">\n",
       "  <thead>\n",
       "    <tr style=\"text-align: right;\">\n",
       "      <th></th>\n",
       "      <th>Verses</th>\n",
       "      <th>Text</th>\n",
       "    </tr>\n",
       "  </thead>\n",
       "  <tbody>\n",
       "    <tr>\n",
       "      <th>1103</th>\n",
       "      <td>Luke 24:8</td>\n",
       "      <td>καὶ ἐμνήσθησαν τῶν ῥημάτων αὐτοῦ,</td>\n",
       "    </tr>\n",
       "    <tr>\n",
       "      <th>969</th>\n",
       "      <td>Luke 21:38</td>\n",
       "      <td>καὶ πᾶς ὁ λαὸς ὤρθριζεν πρὸς αὐτὸν ἐν τῷ ἱερῷ ...</td>\n",
       "    </tr>\n",
       "    <tr>\n",
       "      <th>197</th>\n",
       "      <td>Luke 4:28</td>\n",
       "      <td>καὶ ἐπλήσθησαν πάντες θυμοῦ ἐν τῇ συναγωγῇ ἀκο...</td>\n",
       "    </tr>\n",
       "    <tr>\n",
       "      <th>242</th>\n",
       "      <td>Luke 5:29</td>\n",
       "      <td>Καὶ ἐποίησεν δοχὴν μεγάλην Λευὶς αὐτῷ ἐν τῇ οἰ...</td>\n",
       "    </tr>\n",
       "    <tr>\n",
       "      <th>920</th>\n",
       "      <td>Luke 20:36</td>\n",
       "      <td>⸀οὐδὲ γὰρ ἀποθανεῖν ἔτι δύνανται, ἰσάγγελοι γά...</td>\n",
       "    </tr>\n",
       "  </tbody>\n",
       "</table>\n",
       "</div>"
      ],
      "text/plain": [
       "          Verses                                               Text\n",
       "1103   Luke 24:8                 καὶ ἐμνήσθησαν τῶν ῥημάτων αὐτοῦ, \n",
       "969   Luke 21:38  καὶ πᾶς ὁ λαὸς ὤρθριζεν πρὸς αὐτὸν ἐν τῷ ἱερῷ ...\n",
       "197    Luke 4:28  καὶ ἐπλήσθησαν πάντες θυμοῦ ἐν τῇ συναγωγῇ ἀκο...\n",
       "242    Luke 5:29  Καὶ ἐποίησεν δοχὴν μεγάλην Λευὶς αὐτῷ ἐν τῇ οἰ...\n",
       "920   Luke 20:36  ⸀οὐδὲ γὰρ ἀποθανεῖν ἔτι δύνανται, ἰσάγγελοι γά..."
      ]
     },
     "metadata": {},
     "output_type": "display_data"
    },
    {
     "data": {
      "text/plain": [
       "(1149, 2)"
      ]
     },
     "metadata": {},
     "output_type": "display_data"
    },
    {
     "data": {
      "text/html": [
       "<div>\n",
       "<style scoped>\n",
       "    .dataframe tbody tr th:only-of-type {\n",
       "        vertical-align: middle;\n",
       "    }\n",
       "\n",
       "    .dataframe tbody tr th {\n",
       "        vertical-align: top;\n",
       "    }\n",
       "\n",
       "    .dataframe thead th {\n",
       "        text-align: right;\n",
       "    }\n",
       "</style>\n",
       "<table border=\"1\" class=\"dataframe\">\n",
       "  <thead>\n",
       "    <tr style=\"text-align: right;\">\n",
       "      <th></th>\n",
       "      <th>Verses</th>\n",
       "      <th>Text</th>\n",
       "    </tr>\n",
       "  </thead>\n",
       "  <tbody>\n",
       "    <tr>\n",
       "      <th>113</th>\n",
       "      <td>John 4:2</td>\n",
       "      <td>καίτοιγε Ἰησοῦς αὐτὸς οὐκ ἐβάπτιζεν ἀλλʼ οἱ μα...</td>\n",
       "    </tr>\n",
       "    <tr>\n",
       "      <th>124</th>\n",
       "      <td>John 4:13</td>\n",
       "      <td>ἀπεκρίθη Ἰησοῦς καὶ εἶπεν αὐτῇ· Πᾶς ὁ πίνων ἐκ...</td>\n",
       "    </tr>\n",
       "    <tr>\n",
       "      <th>871</th>\n",
       "      <td>John 21:19</td>\n",
       "      <td>τοῦτο δὲ εἶπεν σημαίνων ποίῳ θανάτῳ δοξάσει τὸ...</td>\n",
       "    </tr>\n",
       "    <tr>\n",
       "      <th>334</th>\n",
       "      <td>John 7:52</td>\n",
       "      <td>ἀπεκρίθησαν καὶ εἶπαν αὐτῷ· Μὴ καὶ σὺ ἐκ τῆς Γ...</td>\n",
       "    </tr>\n",
       "    <tr>\n",
       "      <th>444</th>\n",
       "      <td>John 10:9</td>\n",
       "      <td>ἐγώ εἰμι ἡ θύρα· διʼ ἐμοῦ ἐάν τις εἰσέλθῃ σωθή...</td>\n",
       "    </tr>\n",
       "  </tbody>\n",
       "</table>\n",
       "</div>"
      ],
      "text/plain": [
       "         Verses                                               Text\n",
       "113    John 4:2  καίτοιγε Ἰησοῦς αὐτὸς οὐκ ἐβάπτιζεν ἀλλʼ οἱ μα...\n",
       "124   John 4:13  ἀπεκρίθη Ἰησοῦς καὶ εἶπεν αὐτῇ· Πᾶς ὁ πίνων ἐκ...\n",
       "871  John 21:19  τοῦτο δὲ εἶπεν σημαίνων ποίῳ θανάτῳ δοξάσει τὸ...\n",
       "334   John 7:52  ἀπεκρίθησαν καὶ εἶπαν αὐτῷ· Μὴ καὶ σὺ ἐκ τῆς Γ...\n",
       "444   John 10:9  ἐγώ εἰμι ἡ θύρα· διʼ ἐμοῦ ἐάν τις εἰσέλθῃ σωθή..."
      ]
     },
     "metadata": {},
     "output_type": "display_data"
    },
    {
     "data": {
      "text/plain": [
       "(878, 2)"
      ]
     },
     "metadata": {},
     "output_type": "display_data"
    }
   ],
   "source": [
    "# charger et formater les données\n",
    "Mark = pd.read_csv(\"data/Mark.txt\",delimiter='\\t', skiprows=(0),dtype=str,header=1)\n",
    "Matt = pd.read_csv(\"data/Matt.txt\",delimiter='\\t', skiprows=(0),dtype=str,header=1)\n",
    "Luke = pd.read_csv(\"data/Luke.txt\",delimiter='\\t', skiprows=(0),dtype=str,header=1)\n",
    "John = pd.read_csv(\"data/John.txt\",delimiter='\\t', skiprows=(0),dtype=str,header=1)\n",
    "# words = data[2]\n",
    "display(Mark.sample(5))\n",
    "display(Mark.shape)\n",
    "display(Matt.sample(5))\n",
    "display(Matt.shape)\n",
    "display(Luke.sample(5))\n",
    "display(Luke.shape)\n",
    "display(John.sample(5))\n",
    "display(John.shape)"
   ]
  },
  {
   "cell_type": "markdown",
   "id": "344c2e12-d714-4240-8818-41d50daa3c36",
   "metadata": {},
   "source": [
    "# Data standardization"
   ]
  },
  {
   "cell_type": "code",
   "execution_count": 17,
   "id": "fd4e6742-c473-41fb-b663-0b98a27b99ef",
   "metadata": {},
   "outputs": [
    {
     "data": {
      "text/plain": [
       "133    καὶ ἔλεγεν· οὕτως ἐστὶν ἡ βασιλεία τοῦ θεοῦ ὡς...\n",
       "317    καὶ προσκαλεσάμενος τὸν ὄχλον σὺν τοῖς μαθηταῖ...\n",
       "641    δραμὼν δέ τις καὶ γεμίσας σπόγγον ὄξους περιθε...\n",
       "177    καὶ εὐθὺς ἐξηράνθη ἡ πηγὴ τοῦ αἵματος αὐτῆς, κ...\n",
       "657    καὶ εἰσελθοῦσαι εἰς τὸ μνημεῖον εἶδον νεανίσκο...\n",
       "125    καὶ ἄλλοι εἰσὶν οἱ εἰς τὰς ἀκάνθας σπειρόμενοι...\n",
       "193    καὶ γενομένου σαββάτου ἤρξατο διδάσκειν ἐν τῇ ...\n",
       "438    καὶ ἐδίδασκεν καὶ ἔλεγεν αὐτοῖς· οὐ γέγραπται ...\n",
       "237    καὶ ἀποταξάμενος αὐτοῖς ἀπῆλθεν εἰς τὸ ὄρος πρ...\n",
       "465    καὶ ἐζήτουν αὐτὸν κρατῆσαι, καὶ ἐφοβήθησαν τὸν...\n",
       "Name: Text, dtype: object"
      ]
     },
     "execution_count": 17,
     "metadata": {},
     "output_type": "execute_result"
    }
   ],
   "source": [
    "# Remove critical apparatus symbols\n",
    "crit_symbols_list = ['⸀', '⸂','⸃','⟧','⟦'] # list of symbols\n",
    "Mark.Text = Mark.Text.replace(crit_symbols_list,'',regex=True)\n",
    "Matt.Text = Matt.Text.replace(crit_symbols_list,'',regex=True)\n",
    "Luke.Text = Luke.Text.replace(crit_symbols_list,'',regex=True)\n",
    "John.Text = John.Text.replace(crit_symbols_list,'',regex=True)\n",
    "\n",
    "# Lower case\n",
    "Mark.Text = Mark.Text.str.lower()\n",
    "Matt.Text = Matt.Text.str.lower()\n",
    "Luke.Text = Luke.Text.str.lower()\n",
    "John.Text = John.Text.str.lower()\n",
    "\n",
    "# Control\n",
    "Mark.Text.sample(10)"
   ]
  },
  {
   "cell_type": "markdown",
   "id": "d7449bbc-239d-45c5-8b63-7e67589e9797",
   "metadata": {},
   "source": [
    "# Cltk text processing test"
   ]
  },
  {
   "cell_type": "code",
   "execution_count": 18,
   "id": "217c2fd4-aa83-40fd-aff8-5dc5184fd736",
   "metadata": {},
   "outputs": [
    {
     "name": "stdout",
     "output_type": "stream",
     "text": [
      "‎𐤀 CLTK version '1.3.0'. When using the CLTK in research, please cite: https://aclanthology.org/2021.acl-demo.3/\n",
      "\n",
      "Pipeline for language 'Ancient Greek' (ISO: 'grc'): `GreekNormalizeProcess`, `GreekSpacyProcess`, `GreekEmbeddingsProcess`, `StopsProcess`.\n",
      "\n",
      "⸖ ``GreekSpacyProcess`` using OdyCy model by Center for Humanities Computing Aarhus from https://huggingface.co/chcaa . Please cite: https://aclanthology.org/2023.latechclfl-1.14\n",
      "⸖ ``LatinEmbeddingsProcess`` using word2vec model by University of Oslo from http://vectors.nlpl.eu/ . Please cite: https://aclanthology.org/W17-0237/\n",
      "\n",
      "⸎ To suppress these messages, instantiate ``NLP()`` with ``suppress_banner=True``.\n"
     ]
    }
   ],
   "source": [
    "cltk_nlp_grc = NLP(language=\"grc\")"
   ]
  },
  {
   "cell_type": "code",
   "execution_count": 21,
   "id": "cbe9050b-885f-41ad-aa89-1cf77c1332a6",
   "metadata": {},
   "outputs": [
    {
     "name": "stdout",
     "output_type": "stream",
     "text": [
      "CPU times: user 11.2 ms, sys: 0 ns, total: 11.2 ms\n",
      "Wall time: 10.8 ms\n"
     ]
    }
   ],
   "source": [
    "%time cltk_doc_grc = cltk_nlp_grc.analyze(text=Mark.Text[1])"
   ]
  },
  {
   "cell_type": "code",
   "execution_count": 24,
   "id": "041a9e53-f3c2-4a73-8160-2ecf43a36cf9",
   "metadata": {},
   "outputs": [
    {
     "name": "stdout",
     "output_type": "stream",
     "text": [
      "\n",
      "Full sentence : ['καθὼς γέγραπται ἐν τῷ ἠσαΐᾳ τῷ προφήτῃ ·', 'ἰδοὺ ἀποστέλλω τὸν ἄγγελόν μου πρὸ προσώπου σου , ὃς κατασκευάσει τὴν ὁδόν σου ·']\n",
      "Tokens : ['καθὼς', 'γέγραπται', 'ἐν', 'τῷ', 'ἠσαΐᾳ', 'τῷ', 'προφήτῃ', '·', 'ἰδοὺ', 'ἀποστέλλω', 'τὸν', 'ἄγγελόν', 'μου', 'πρὸ', 'προσώπου', 'σου', ',', 'ὃς', 'κατασκευάσει', 'τὴν', 'ὁδόν', 'σου', '·']\n",
      "\n",
      "First word : Word(index_char_start=16, index_char_stop=18, index_token=3, index_sentence=0, string='ἐν', pos=adposition, lemma='ἐν', stem=None, scansion=None, xpos='R-', upos='ADP', dependency_relation='case', governor=5, features={}, category={F: [pos], N: [neg], V: [neg]}, stop=True, named_entity=None, syllables=None, phonetic_transcription=None, definition=None)\n",
      "\n",
      "Lemmatas : ['καθώς', 'γράφω', 'ἐν', 'ὁ', 'ἠσαΐᾳ', 'ὁ', 'προφήτης', '·', 'ἰδοὺ', 'ἀποστέλλω', 'ὁ', 'ἄγγελος', 'ἐγώ', 'πρό', 'πρόσωπον', 'σύ', ',', 'ὅς', 'κατασκευάζω', 'ὁ', 'ὁδός', 'σύ', '·']\n"
     ]
    }
   ],
   "source": [
    "# Inspection of doc \n",
    "print(f\"\\nFull sentence :\",cltk_doc_grc.sentences_strings)\n",
    "print(f\"Tokens :\",cltk_doc_grc.tokens)\n",
    "print(f\"\\nFirst word :\",cltk_doc_grc.words[2])\n",
    "print(f\"\\nLemmatas :\",cltk_doc_grc.lemmata)"
   ]
  },
  {
   "cell_type": "code",
   "execution_count": null,
   "id": "964f8def-bb70-40a8-987a-386de6658c9e",
   "metadata": {},
   "outputs": [],
   "source": [
    "# Remove stop words (example)\n",
    "from cltk.stops.words import Stops\n",
    "from cltk.languages.example_texts import get_example_text\n",
    "from boltons.strutils import split_punct_ws\n",
    "stops_obj = Stops(iso_code=\"lat\")\n",
    "tokens = split_punct_ws(get_example_text(\"lat\"))\n",
    "print(len(tokens))\n",
    "print(tokens[25:30])\n",
    "tokens_filtered = stops_obj.remove_stopwords(tokens=tokens)\n",
    "print(len(tokens_filtered))\n",
    "print(tokens_filtered[22:26])"
   ]
  },
  {
   "cell_type": "code",
   "execution_count": 26,
   "id": "c43ea2e8-6085-4c7a-9d2f-a40d2a9f9e65",
   "metadata": {},
   "outputs": [
    {
     "name": "stdout",
     "output_type": "stream",
     "text": [
      "Denpencies in sentence : [advmod(γέγραπται_2/verb, καθὼς_1/adverb), case(ἠσαΐᾳ_5/adjective, ἐν_3/adposition), det(ἠσαΐᾳ_5/adjective, τῷ_4/determiner), det(προφήτῃ_7/noun, τῷ_6/determiner), nmod(ἠσαΐᾳ_5/adjective, προφήτῃ_7/noun), obl(γέγραπται_2/verb, ἠσαΐᾳ_5/adjective), punct(γέγραπται_2/verb, ·_8/punctuation), root(None, γέγραπται_2/verb)]\n",
      "-------------------\n",
      "root | γέγραπται_2/verb\n",
      "    └─ advmod | καθὼς_1/adverb\n",
      "    └─ obl | ἠσαΐᾳ_5/adjective\n",
      "        └─ case | ἐν_3/adposition\n",
      "        └─ det | τῷ_4/determiner\n",
      "        └─ nmod | προφήτῃ_7/noun\n",
      "            └─ det | τῷ_6/determiner\n",
      "    └─ punct | ·_8/punctuation\n"
     ]
    }
   ],
   "source": [
    "# Build dependency tree\n",
    "from cltk.dependency.tree import DependencyTree\n",
    "a_tree_grc = DependencyTree.to_tree(cltk_doc_grc.sentences[0])  #81\n",
    "print(f\"Denpencies in sentence :\",a_tree_grc.get_dependencies())\n",
    "print('-------------------')\n",
    "a_tree_grc.print_tree()"
   ]
  },
  {
   "cell_type": "code",
   "execution_count": 27,
   "id": "78c14af7-06a6-4701-a159-3cf4947ef05a",
   "metadata": {
    "scrolled": true
   },
   "outputs": [
    {
     "name": "stdout",
     "output_type": "stream",
     "text": [
      "['string', 'lemma', 'embedding', 'is_stop', 'lemma', 'pos', 'case', 'gender', 'animacy', 'number', 'definiteness', 'degree', 'strength', 'verbform', 'tense', 'mood', 'aspect', 'voice', 'person', 'polarity', 'politeness', 'clusivity', 'evidentiality', 'strength', 'governing_word', 'governor_case', 'governor_gender', 'governor_animacy', 'governor_number', 'governor_definiteness', 'governor_degree', 'governor_strength', 'governor_verbform', 'governor_tense', 'governor_mood', 'governor_aspect', 'governor_voice', 'governor_person', 'governor_polarity', 'governor_politeness', 'governor_clusivity', 'governor_evidentiality', 'governor_strength', 'governing_relationship']\n"
     ]
    }
   ],
   "source": [
    "# Extract features automatically\n",
    "from cltk.utils.feature_extraction import cltk_doc_to_features_table\n",
    "feature_names_grc, list_of_list_features_grc = cltk_doc_to_features_table(cltk_doc=cltk_doc_grc)\n",
    "print(feature_names_grc)"
   ]
  },
  {
   "cell_type": "code",
   "execution_count": 28,
   "id": "8c3aa0d0-249e-4232-8366-3cd17a8b98b2",
   "metadata": {},
   "outputs": [
    {
     "name": "stdout",
     "output_type": "stream",
     "text": [
      "len() of feature instances (one for each token): 23\n",
      "\n",
      "Example of one instance row: ['ἠσαΐᾳ', 'ἠσαΐᾳ', array([0., 0., 0., 0., 0., 0., 0., 0., 0., 0., 0., 0., 0., 0., 0., 0., 0.,\n",
      "       0., 0., 0., 0., 0., 0., 0., 0., 0., 0., 0., 0., 0., 0., 0., 0., 0.,\n",
      "       0., 0., 0., 0., 0., 0., 0., 0., 0., 0., 0., 0., 0., 0., 0., 0., 0.,\n",
      "       0., 0., 0., 0., 0., 0., 0., 0., 0., 0., 0., 0., 0., 0., 0., 0., 0.,\n",
      "       0., 0., 0., 0., 0., 0., 0., 0., 0., 0., 0., 0., 0., 0., 0., 0., 0.,\n",
      "       0., 0., 0., 0., 0., 0., 0., 0., 0., 0., 0., 0., 0., 0., 0.]), False, None, 'adjective', 'dative', 'masculine', None, 'singular', None, None, None, None, None, None, None, None, None, None, None, None, None, None, 'adjective', 'dative', 'masculine', None, 'singular', None, None, None, None, None, None, None, None, None, None, None, None, None, None, 'obl']\n",
      "-----------------------------------------------------------\n",
      "[('string', 'ἠσαΐᾳ'), ('lemma', 'ἠσαΐᾳ'), ('embedding', array([0., 0., 0., 0., 0., 0., 0., 0., 0., 0., 0., 0., 0., 0., 0., 0., 0.,\n",
      "       0., 0., 0., 0., 0., 0., 0., 0., 0., 0., 0., 0., 0., 0., 0., 0., 0.,\n",
      "       0., 0., 0., 0., 0., 0., 0., 0., 0., 0., 0., 0., 0., 0., 0., 0., 0.,\n",
      "       0., 0., 0., 0., 0., 0., 0., 0., 0., 0., 0., 0., 0., 0., 0., 0., 0.,\n",
      "       0., 0., 0., 0., 0., 0., 0., 0., 0., 0., 0., 0., 0., 0., 0., 0., 0.,\n",
      "       0., 0., 0., 0., 0., 0., 0., 0., 0., 0., 0., 0., 0., 0., 0.])), ('is_stop', False), ('lemma', None), ('pos', 'adjective'), ('case', 'dative'), ('gender', 'masculine'), ('animacy', None), ('number', 'singular'), ('definiteness', None), ('degree', None), ('strength', None), ('verbform', None), ('tense', None), ('mood', None), ('aspect', None), ('voice', None), ('person', None), ('polarity', None), ('politeness', None), ('clusivity', None), ('evidentiality', None), ('strength', None), ('governing_word', 'adjective'), ('governor_case', 'dative'), ('governor_gender', 'masculine'), ('governor_animacy', None), ('governor_number', 'singular'), ('governor_definiteness', None), ('governor_degree', None), ('governor_strength', None), ('governor_verbform', None), ('governor_tense', None), ('governor_mood', None), ('governor_aspect', None), ('governor_voice', None), ('governor_person', None), ('governor_polarity', None), ('governor_politeness', None), ('governor_clusivity', None), ('governor_evidentiality', None), ('governor_strength', None), ('governing_relationship', 'obl')]\n"
     ]
    }
   ],
   "source": [
    "print(\"len() of feature instances (one for each token):\", len(list_of_list_features_grc))\n",
    "print(\"\\nExample of one instance row:\", list_of_list_features_grc[4])\n",
    "\n",
    "# Putting these together for easier reading\n",
    "print('-----------------------------------------------------------')\n",
    "print(list(zip(feature_names_grc, list_of_list_features_grc[4])))"
   ]
  },
  {
   "cell_type": "markdown",
   "id": "99420250-7e5e-4b80-a09c-c0bc8fd2e22c",
   "metadata": {},
   "source": [
    "# Nltk text preprocessing"
   ]
  },
  {
   "cell_type": "code",
   "execution_count": 6,
   "id": "3f910473-aca8-419c-915a-bb3f38604dba",
   "metadata": {},
   "outputs": [
    {
     "name": "stderr",
     "output_type": "stream",
     "text": [
      "[nltk_data] Error loading punkt: <urlopen error [Errno 13] Permission\n",
      "[nltk_data]     denied>\n"
     ]
    },
    {
     "ename": "LookupError",
     "evalue": "\n**********************************************************************\n  Resource \u001b[93mpunkt\u001b[0m not found.\n  Please use the NLTK Downloader to obtain the resource:\n\n  \u001b[31m>>> import nltk\n  >>> nltk.download('punkt')\n  \u001b[0m\n  For more information see: https://www.nltk.org/data.html\n\n  Attempted to load \u001b[93mtokenizers/punkt/PY3/english.pickle\u001b[0m\n\n  Searched in:\n    - '/home/delaselt/nltk_data'\n    - '/usr/nltk_data'\n    - '/usr/share/nltk_data'\n    - '/usr/lib/nltk_data'\n    - '/usr/share/nltk_data'\n    - '/usr/local/share/nltk_data'\n    - '/usr/lib/nltk_data'\n    - '/usr/local/lib/nltk_data'\n    - ''\n**********************************************************************\n",
     "output_type": "error",
     "traceback": [
      "\u001b[0;31m---------------------------------------------------------------------------\u001b[0m",
      "\u001b[0;31mLookupError\u001b[0m                               Traceback (most recent call last)",
      "Cell \u001b[0;32mIn[6], line 9\u001b[0m\n\u001b[1;32m      7\u001b[0m \u001b[38;5;66;03m# test tokenization\u001b[39;00m\n\u001b[1;32m      8\u001b[0m nltk\u001b[38;5;241m.\u001b[39mdownload(\u001b[38;5;124m'\u001b[39m\u001b[38;5;124mpunkt\u001b[39m\u001b[38;5;124m'\u001b[39m)\n\u001b[0;32m----> 9\u001b[0m tokens \u001b[38;5;241m=\u001b[39m \u001b[43mword_tokenize\u001b[49m\u001b[43m(\u001b[49m\u001b[43mMark\u001b[49m\u001b[38;5;241;43m.\u001b[39;49m\u001b[43mText\u001b[49m\u001b[43m[\u001b[49m\u001b[38;5;241;43m0\u001b[39;49m\u001b[43m]\u001b[49m\u001b[43m)\u001b[49m\n\u001b[1;32m     10\u001b[0m \u001b[38;5;28mprint\u001b[39m(Mark\u001b[38;5;241m.\u001b[39mText[\u001b[38;5;241m0\u001b[39m])\n\u001b[1;32m     11\u001b[0m \u001b[38;5;28mprint\u001b[39m(tokens)\n",
      "File \u001b[0;32m/usr/local/lib/python3.10/dist-packages/nltk/tokenize/__init__.py:129\u001b[0m, in \u001b[0;36mword_tokenize\u001b[0;34m(text, language, preserve_line)\u001b[0m\n\u001b[1;32m    114\u001b[0m \u001b[38;5;28;01mdef\u001b[39;00m \u001b[38;5;21mword_tokenize\u001b[39m(text, language\u001b[38;5;241m=\u001b[39m\u001b[38;5;124m\"\u001b[39m\u001b[38;5;124menglish\u001b[39m\u001b[38;5;124m\"\u001b[39m, preserve_line\u001b[38;5;241m=\u001b[39m\u001b[38;5;28;01mFalse\u001b[39;00m):\n\u001b[1;32m    115\u001b[0m \u001b[38;5;250m    \u001b[39m\u001b[38;5;124;03m\"\"\"\u001b[39;00m\n\u001b[1;32m    116\u001b[0m \u001b[38;5;124;03m    Return a tokenized copy of *text*,\u001b[39;00m\n\u001b[1;32m    117\u001b[0m \u001b[38;5;124;03m    using NLTK's recommended word tokenizer\u001b[39;00m\n\u001b[0;32m   (...)\u001b[0m\n\u001b[1;32m    127\u001b[0m \u001b[38;5;124;03m    :type preserve_line: bool\u001b[39;00m\n\u001b[1;32m    128\u001b[0m \u001b[38;5;124;03m    \"\"\"\u001b[39;00m\n\u001b[0;32m--> 129\u001b[0m     sentences \u001b[38;5;241m=\u001b[39m [text] \u001b[38;5;28;01mif\u001b[39;00m preserve_line \u001b[38;5;28;01melse\u001b[39;00m \u001b[43msent_tokenize\u001b[49m\u001b[43m(\u001b[49m\u001b[43mtext\u001b[49m\u001b[43m,\u001b[49m\u001b[43m \u001b[49m\u001b[43mlanguage\u001b[49m\u001b[43m)\u001b[49m\n\u001b[1;32m    130\u001b[0m     \u001b[38;5;28;01mreturn\u001b[39;00m [\n\u001b[1;32m    131\u001b[0m         token \u001b[38;5;28;01mfor\u001b[39;00m sent \u001b[38;5;129;01min\u001b[39;00m sentences \u001b[38;5;28;01mfor\u001b[39;00m token \u001b[38;5;129;01min\u001b[39;00m _treebank_word_tokenizer\u001b[38;5;241m.\u001b[39mtokenize(sent)\n\u001b[1;32m    132\u001b[0m     ]\n",
      "File \u001b[0;32m/usr/local/lib/python3.10/dist-packages/nltk/tokenize/__init__.py:106\u001b[0m, in \u001b[0;36msent_tokenize\u001b[0;34m(text, language)\u001b[0m\n\u001b[1;32m     96\u001b[0m \u001b[38;5;28;01mdef\u001b[39;00m \u001b[38;5;21msent_tokenize\u001b[39m(text, language\u001b[38;5;241m=\u001b[39m\u001b[38;5;124m\"\u001b[39m\u001b[38;5;124menglish\u001b[39m\u001b[38;5;124m\"\u001b[39m):\n\u001b[1;32m     97\u001b[0m \u001b[38;5;250m    \u001b[39m\u001b[38;5;124;03m\"\"\"\u001b[39;00m\n\u001b[1;32m     98\u001b[0m \u001b[38;5;124;03m    Return a sentence-tokenized copy of *text*,\u001b[39;00m\n\u001b[1;32m     99\u001b[0m \u001b[38;5;124;03m    using NLTK's recommended sentence tokenizer\u001b[39;00m\n\u001b[0;32m   (...)\u001b[0m\n\u001b[1;32m    104\u001b[0m \u001b[38;5;124;03m    :param language: the model name in the Punkt corpus\u001b[39;00m\n\u001b[1;32m    105\u001b[0m \u001b[38;5;124;03m    \"\"\"\u001b[39;00m\n\u001b[0;32m--> 106\u001b[0m     tokenizer \u001b[38;5;241m=\u001b[39m \u001b[43mload\u001b[49m\u001b[43m(\u001b[49m\u001b[38;5;124;43mf\u001b[39;49m\u001b[38;5;124;43m\"\u001b[39;49m\u001b[38;5;124;43mtokenizers/punkt/\u001b[39;49m\u001b[38;5;132;43;01m{\u001b[39;49;00m\u001b[43mlanguage\u001b[49m\u001b[38;5;132;43;01m}\u001b[39;49;00m\u001b[38;5;124;43m.pickle\u001b[39;49m\u001b[38;5;124;43m\"\u001b[39;49m\u001b[43m)\u001b[49m\n\u001b[1;32m    107\u001b[0m     \u001b[38;5;28;01mreturn\u001b[39;00m tokenizer\u001b[38;5;241m.\u001b[39mtokenize(text)\n",
      "File \u001b[0;32m/usr/local/lib/python3.10/dist-packages/nltk/data.py:750\u001b[0m, in \u001b[0;36mload\u001b[0;34m(resource_url, format, cache, verbose, logic_parser, fstruct_reader, encoding)\u001b[0m\n\u001b[1;32m    747\u001b[0m     \u001b[38;5;28mprint\u001b[39m(\u001b[38;5;124mf\u001b[39m\u001b[38;5;124m\"\u001b[39m\u001b[38;5;124m<<Loading \u001b[39m\u001b[38;5;132;01m{\u001b[39;00mresource_url\u001b[38;5;132;01m}\u001b[39;00m\u001b[38;5;124m>>\u001b[39m\u001b[38;5;124m\"\u001b[39m)\n\u001b[1;32m    749\u001b[0m \u001b[38;5;66;03m# Load the resource.\u001b[39;00m\n\u001b[0;32m--> 750\u001b[0m opened_resource \u001b[38;5;241m=\u001b[39m \u001b[43m_open\u001b[49m\u001b[43m(\u001b[49m\u001b[43mresource_url\u001b[49m\u001b[43m)\u001b[49m\n\u001b[1;32m    752\u001b[0m \u001b[38;5;28;01mif\u001b[39;00m \u001b[38;5;28mformat\u001b[39m \u001b[38;5;241m==\u001b[39m \u001b[38;5;124m\"\u001b[39m\u001b[38;5;124mraw\u001b[39m\u001b[38;5;124m\"\u001b[39m:\n\u001b[1;32m    753\u001b[0m     resource_val \u001b[38;5;241m=\u001b[39m opened_resource\u001b[38;5;241m.\u001b[39mread()\n",
      "File \u001b[0;32m/usr/local/lib/python3.10/dist-packages/nltk/data.py:876\u001b[0m, in \u001b[0;36m_open\u001b[0;34m(resource_url)\u001b[0m\n\u001b[1;32m    873\u001b[0m protocol, path_ \u001b[38;5;241m=\u001b[39m split_resource_url(resource_url)\n\u001b[1;32m    875\u001b[0m \u001b[38;5;28;01mif\u001b[39;00m protocol \u001b[38;5;129;01mis\u001b[39;00m \u001b[38;5;28;01mNone\u001b[39;00m \u001b[38;5;129;01mor\u001b[39;00m protocol\u001b[38;5;241m.\u001b[39mlower() \u001b[38;5;241m==\u001b[39m \u001b[38;5;124m\"\u001b[39m\u001b[38;5;124mnltk\u001b[39m\u001b[38;5;124m\"\u001b[39m:\n\u001b[0;32m--> 876\u001b[0m     \u001b[38;5;28;01mreturn\u001b[39;00m \u001b[43mfind\u001b[49m\u001b[43m(\u001b[49m\u001b[43mpath_\u001b[49m\u001b[43m,\u001b[49m\u001b[43m \u001b[49m\u001b[43mpath\u001b[49m\u001b[43m \u001b[49m\u001b[38;5;241;43m+\u001b[39;49m\u001b[43m \u001b[49m\u001b[43m[\u001b[49m\u001b[38;5;124;43m\"\u001b[39;49m\u001b[38;5;124;43m\"\u001b[39;49m\u001b[43m]\u001b[49m\u001b[43m)\u001b[49m\u001b[38;5;241m.\u001b[39mopen()\n\u001b[1;32m    877\u001b[0m \u001b[38;5;28;01melif\u001b[39;00m protocol\u001b[38;5;241m.\u001b[39mlower() \u001b[38;5;241m==\u001b[39m \u001b[38;5;124m\"\u001b[39m\u001b[38;5;124mfile\u001b[39m\u001b[38;5;124m\"\u001b[39m:\n\u001b[1;32m    878\u001b[0m     \u001b[38;5;66;03m# urllib might not use mode='rb', so handle this one ourselves:\u001b[39;00m\n\u001b[1;32m    879\u001b[0m     \u001b[38;5;28;01mreturn\u001b[39;00m find(path_, [\u001b[38;5;124m\"\u001b[39m\u001b[38;5;124m\"\u001b[39m])\u001b[38;5;241m.\u001b[39mopen()\n",
      "File \u001b[0;32m/usr/local/lib/python3.10/dist-packages/nltk/data.py:583\u001b[0m, in \u001b[0;36mfind\u001b[0;34m(resource_name, paths)\u001b[0m\n\u001b[1;32m    581\u001b[0m sep \u001b[38;5;241m=\u001b[39m \u001b[38;5;124m\"\u001b[39m\u001b[38;5;124m*\u001b[39m\u001b[38;5;124m\"\u001b[39m \u001b[38;5;241m*\u001b[39m \u001b[38;5;241m70\u001b[39m\n\u001b[1;32m    582\u001b[0m resource_not_found \u001b[38;5;241m=\u001b[39m \u001b[38;5;124mf\u001b[39m\u001b[38;5;124m\"\u001b[39m\u001b[38;5;130;01m\\n\u001b[39;00m\u001b[38;5;132;01m{\u001b[39;00msep\u001b[38;5;132;01m}\u001b[39;00m\u001b[38;5;130;01m\\n\u001b[39;00m\u001b[38;5;132;01m{\u001b[39;00mmsg\u001b[38;5;132;01m}\u001b[39;00m\u001b[38;5;130;01m\\n\u001b[39;00m\u001b[38;5;132;01m{\u001b[39;00msep\u001b[38;5;132;01m}\u001b[39;00m\u001b[38;5;130;01m\\n\u001b[39;00m\u001b[38;5;124m\"\u001b[39m\n\u001b[0;32m--> 583\u001b[0m \u001b[38;5;28;01mraise\u001b[39;00m \u001b[38;5;167;01mLookupError\u001b[39;00m(resource_not_found)\n",
      "\u001b[0;31mLookupError\u001b[0m: \n**********************************************************************\n  Resource \u001b[93mpunkt\u001b[0m not found.\n  Please use the NLTK Downloader to obtain the resource:\n\n  \u001b[31m>>> import nltk\n  >>> nltk.download('punkt')\n  \u001b[0m\n  For more information see: https://www.nltk.org/data.html\n\n  Attempted to load \u001b[93mtokenizers/punkt/PY3/english.pickle\u001b[0m\n\n  Searched in:\n    - '/home/delaselt/nltk_data'\n    - '/usr/nltk_data'\n    - '/usr/share/nltk_data'\n    - '/usr/lib/nltk_data'\n    - '/usr/share/nltk_data'\n    - '/usr/local/share/nltk_data'\n    - '/usr/lib/nltk_data'\n    - '/usr/local/lib/nltk_data'\n    - ''\n**********************************************************************\n"
     ]
    }
   ],
   "source": [
    "# test tokenization\n",
    "nltk.download('punkt')\n",
    "tokens = word_tokenize(Mark.Text[0])\n",
    "print(Mark.Text[0])\n",
    "print(tokens)\n",
    "\n",
    "# display(Mark.sample(5))\n",
    "# display(Matt.sample(5))\n",
    "# display(Luke.sample(5))\n",
    "# display(John.sample(5))"
   ]
  },
  {
   "cell_type": "markdown",
   "id": "47791728-d542-4b4d-8302-d9c8e2b9049f",
   "metadata": {},
   "source": [
    "# Edit distance test on 2 verses"
   ]
  },
  {
   "cell_type": "code",
   "execution_count": 126,
   "id": "de9a1fb5-6649-4464-b16f-5b809be61a38",
   "metadata": {},
   "outputs": [
    {
     "data": {
      "text/html": [
       "<div>\n",
       "<style scoped>\n",
       "    .dataframe tbody tr th:only-of-type {\n",
       "        vertical-align: middle;\n",
       "    }\n",
       "\n",
       "    .dataframe tbody tr th {\n",
       "        vertical-align: top;\n",
       "    }\n",
       "\n",
       "    .dataframe thead th {\n",
       "        text-align: right;\n",
       "    }\n",
       "</style>\n",
       "<table border=\"1\" class=\"dataframe\">\n",
       "  <thead>\n",
       "    <tr style=\"text-align: right;\">\n",
       "      <th></th>\n",
       "      <th>Verses</th>\n",
       "      <th>Text</th>\n",
       "    </tr>\n",
       "  </thead>\n",
       "  <tbody>\n",
       "    <tr>\n",
       "      <th>1</th>\n",
       "      <td>Mark 1:2</td>\n",
       "      <td>⸀καθὼς γέγραπται ἐν ⸂τῷ ἠσαΐᾳ τῷ προφήτῃ⸃· ⸀ἰδ...</td>\n",
       "    </tr>\n",
       "  </tbody>\n",
       "</table>\n",
       "</div>"
      ],
      "text/plain": [
       "     Verses                                               Text\n",
       "1  Mark 1:2  ⸀καθὼς γέγραπται ἐν ⸂τῷ ἠσαΐᾳ τῷ προφήτῃ⸃· ⸀ἰδ..."
      ]
     },
     "metadata": {},
     "output_type": "display_data"
    },
    {
     "data": {
      "text/html": [
       "<div>\n",
       "<style scoped>\n",
       "    .dataframe tbody tr th:only-of-type {\n",
       "        vertical-align: middle;\n",
       "    }\n",
       "\n",
       "    .dataframe tbody tr th {\n",
       "        vertical-align: top;\n",
       "    }\n",
       "\n",
       "    .dataframe thead th {\n",
       "        text-align: right;\n",
       "    }\n",
       "</style>\n",
       "<table border=\"1\" class=\"dataframe\">\n",
       "  <thead>\n",
       "    <tr style=\"text-align: right;\">\n",
       "      <th></th>\n",
       "      <th>Verses</th>\n",
       "      <th>Text</th>\n",
       "    </tr>\n",
       "  </thead>\n",
       "  <tbody>\n",
       "    <tr>\n",
       "      <th>3</th>\n",
       "      <td>Mark 1:4</td>\n",
       "      <td>ἐγένετο ἰωάννης ⸀ὁ βαπτίζων ἐν τῇ ⸀ἐρήμῳ κηρύσ...</td>\n",
       "    </tr>\n",
       "  </tbody>\n",
       "</table>\n",
       "</div>"
      ],
      "text/plain": [
       "     Verses                                               Text\n",
       "3  Mark 1:4  ἐγένετο ἰωάννης ⸀ὁ βαπτίζων ἐν τῇ ⸀ἐρήμῳ κηρύσ..."
      ]
     },
     "metadata": {},
     "output_type": "display_data"
    },
    {
     "name": "stdout",
     "output_type": "stream",
     "text": [
      "Length of verse 1 : 124\n",
      "Length of verse 2 : 90\n",
      "Edit distance between 2 verses : 15\n"
     ]
    }
   ],
   "source": [
    "# Edit distance test on verses\n",
    "id_verse_1 = \"Mark 1:2\"\n",
    "id_verse_2 = \"Mark 1:4\"\n",
    "\n",
    "# Find the verses in dataframes\n",
    "v_1 = Mark[Mark.Verses == id_verse_1]\n",
    "display(v_1)\n",
    "v_2 = Mark[Mark.Verses == id_verse_2]\n",
    "display(v_2)\n",
    "\n",
    "# Reset indexes for following commandds \n",
    "v_1.reset_index(drop=True,inplace=True)\n",
    "v_2.reset_index(drop=True,inplace=True)\n",
    "\n",
    "# Extract texts (str format)\n",
    "str_v1 = v_1.Text[0]\n",
    "print(f\"Length of verse 1 :\",len(str_v1))\n",
    "str_v2 = v_2.Text[0]\n",
    "print(f\"Length of verse 2 :\",len(str_v2))\n",
    "lengths_diff = int(len(str_v1)-len(str_v2))\n",
    "\n",
    "# Tokenize text\n",
    "tokens_v1 = wordpunct_tokenize(str_v1)\n",
    "tokens_v2 = wordpunct_tokenize(str_v2)\n",
    "tokens_diff = int(len(tokens_v1)-len(tokens_v2))\n",
    "\n",
    "\n",
    "\n",
    "# Compute edit distance (characters)\n",
    "edit_dist = nl.edit_distance(tokens_v2, tokens_v1)-tokens_diff  # Distance brute (unité : mots/caractères d'écart)\n",
    "print(f\"Edit distance between 2 verses :\",edit_dist)"
   ]
  },
  {
   "cell_type": "code",
   "execution_count": 30,
   "id": "2b54d379-4a0f-46f5-bb32-98f4f7f14bfb",
   "metadata": {},
   "outputs": [
    {
     "name": "stdout",
     "output_type": "stream",
     "text": [
      "Texte cible : ['ἐν ', 'ἀρχῇ ', 'ἐποίησεν ', 'ὁ ', 'θεὸς ', 'τὸν ', 'οὐρανὸν ', 'καὶ ', 'τὴν ', 'γῆν ', 'ἡ ', 'δὲ ', 'γῆ ', 'ἦν ', 'ἀόρατος ', 'καὶ ', 'ἀκατασκεύαστος ', 'καὶ ', 'σκότος ', 'ἐπάνω ', 'τῆς ', 'ἀβύσσου ']\n"
     ]
    }
   ],
   "source": [
    "# Selection chaine de mots et assemblage\n",
    "wordsSeriesCitation = words[0:22]\n",
    "target = []\n",
    "for c in wordsSeriesCitation:\n",
    "        target.append(c+\" \")  \n",
    "targetLength = len(target)\n",
    "print(f\"Texte cible :\",target)"
   ]
  },
  {
   "cell_type": "code",
   "execution_count": 34,
   "id": "f2e5388e-dfc5-461c-9dba-94637cf21e6e",
   "metadata": {},
   "outputs": [
    {
     "name": "stdout",
     "output_type": "stream",
     "text": [
      "['ἐν ', 'ἀρχῇ ', 'ἐποίησεν ', 'ὁ ', 'θεὸς ', 'τὸν ', 'οὐρανὸν ', 'καὶ ', 'τὴν ', 'γῆν ', 'ἡ ', 'δὲ ', 'γῆ ', 'ἦν ', 'ἀόρατος ', 'καὶ ', 'ἀκατασκεύαστος ', 'καὶ ', 'σκότος ', 'ἐπάνω ']\n"
     ]
    }
   ],
   "source": [
    "# Définition aire de recherche et assemblage\n",
    "wordsSeriesTest = words[:]\n",
    "textToMine = []\n",
    "for c in wordsSeriesTest:\n",
    "        # print(c)\n",
    "        textToMine.append(c+\" \")\n",
    "# print(f\"Nombre de mots dans texte à fouiller :\",len(textToMine))\n",
    "print(textToMine[0:20])"
   ]
  },
  {
   "cell_type": "code",
   "execution_count": 35,
   "id": "00bb5265-e283-4c86-a8ee-b1dacfea4481",
   "metadata": {},
   "outputs": [
    {
     "data": {
      "text/plain": [
       "1"
      ]
     },
     "metadata": {},
     "output_type": "display_data"
    }
   ],
   "source": [
    "# Choix fenetre de recherche\n",
    "# window = 20\n",
    "window = len(target)+1\n",
    "lengths_diff = window-targetLength\n",
    "display(lengths_diff)"
   ]
  },
  {
   "cell_type": "code",
   "execution_count": 36,
   "id": "fb26ab04-25e4-4e40-ab30-532ac42515c1",
   "metadata": {},
   "outputs": [
    {
     "data": {
      "application/vnd.jupyter.widget-view+json": {
       "model_id": "776af8df677b403286805c8bc08f4b0f",
       "version_major": 2,
       "version_minor": 0
      },
      "image/png": "[encoded data removed]",
      "text/html": [
       "\n",
       "            <div style=\"display: inline-block;\">\n",
       "                <div class=\"jupyter-widgets widget-label\" style=\"text-align: center;\">\n",
       "                    Figure\n",
       "                </div>\n",
       "                <img src='data:image/png;base64,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' width=1000.0/>\n",
       "            </div>\n",
       "        "
      ],
      "text/plain": [
       "Canvas(toolbar=Toolbar(toolitems=[('Home', 'Reset original view', 'home', 'home'), ('Back', 'Back to previous …"
      ]
     },
     "metadata": {},
     "output_type": "display_data"
    }
   ],
   "source": [
    "# Calcul distances de Levensthein sur fenetre glissante\n",
    "dist = np.zeros(int(len(textToMine)/lengths_diff))\n",
    "for t in range(0,len(dist)):\n",
    "    # dist[t] = ((nl.edit_distance(target, textToMine[t*lengths_diff:(t*lengths_diff+window)])-lengths_diff)/targetLength)   # Distance normalisée\n",
    "    dist[t] = nl.edit_distance(target, textToMine[t*lengths_diff:(t*lengths_diff+window)])-lengths_diff  # Distance brute (unité : mots/caractères d'écart)\n",
    "\n",
    "%matplotlib widget\n",
    "plt.figure(figsize=(10,5))\n",
    "plt.plot(np.arange(0,len(dist),1),dist)\n",
    "plt.show()\n",
    "\n",
    "# plt.figure(figsize=(10,5))\n",
    "# plt.hist(dist,bins=15)\n",
    "# plt.show()"
   ]
  },
  {
   "cell_type": "code",
   "execution_count": 42,
   "id": "68c3652c-5fb8-4e93-afe4-e91f8d0e761a",
   "metadata": {},
   "outputs": [],
   "source": [
    "# filter dist to find citation occurences\n",
    "index_mined = np.nonzero(dist<16)\n",
    "\n",
    "# split string in individual characters\n",
    "charactersToMine = [*textToMine]\n",
    "\n",
    "fulltext = np.array(charactersToMine)\n",
    "citations_dist = []\n",
    "citations_char = []\n",
    "s = \"\"\n",
    "for i in index_mined[0]:\n",
    "    citations_dist.append(dist[i])\n",
    "    citations_char.append(s.join(fulltext[i*lengths_diff:(i*lengths_diff+window)]))"
   ]
  },
  {
   "cell_type": "code",
   "execution_count": 43,
   "id": "c428ad76-a701-4dca-a872-4b295102e699",
   "metadata": {},
   "outputs": [
    {
     "data": {
      "text/html": [
       "<div>\n",
       "<style scoped>\n",
       "    .dataframe tbody tr th:only-of-type {\n",
       "        vertical-align: middle;\n",
       "    }\n",
       "\n",
       "    .dataframe tbody tr th {\n",
       "        vertical-align: top;\n",
       "    }\n",
       "\n",
       "    .dataframe thead th {\n",
       "        text-align: right;\n",
       "    }\n",
       "</style>\n",
       "<table border=\"1\" class=\"dataframe\">\n",
       "  <thead>\n",
       "    <tr style=\"text-align: right;\">\n",
       "      <th></th>\n",
       "      <th>Id</th>\n",
       "      <th>Distance</th>\n",
       "      <th>Citations</th>\n",
       "    </tr>\n",
       "  </thead>\n",
       "  <tbody>\n",
       "    <tr>\n",
       "      <th>0</th>\n",
       "      <td>0</td>\n",
       "      <td>0.0</td>\n",
       "      <td>ἐν ἀρχῇ ἐποίησεν ὁ θεὸς τὸν οὐρανὸν καὶ τὴν γῆ...</td>\n",
       "    </tr>\n",
       "    <tr>\n",
       "      <th>1</th>\n",
       "      <td>813</td>\n",
       "      <td>14.0</td>\n",
       "      <td>ἐγένετο ᾗ ἡμέρᾳ ἐποίησεν ὁ θεὸς τὸν οὐρανὸν κα...</td>\n",
       "    </tr>\n",
       "    <tr>\n",
       "      <th>2</th>\n",
       "      <td>51968</td>\n",
       "      <td>14.0</td>\n",
       "      <td>ἐν ἓξ ἡμέραις ἐποίησεν κύριος τὸν οὐρανὸν καὶ ...</td>\n",
       "    </tr>\n",
       "    <tr>\n",
       "      <th>3</th>\n",
       "      <td>510391</td>\n",
       "      <td>15.0</td>\n",
       "      <td>τὰ παταχρα καὶ ἀναβλέψονται εἰς τὸν οὐρανὸν ἄν...</td>\n",
       "    </tr>\n",
       "    <tr>\n",
       "      <th>4</th>\n",
       "      <td>510392</td>\n",
       "      <td>15.0</td>\n",
       "      <td>παταχρα καὶ ἀναβλέψονται εἰς τὸν οὐρανὸν ἄνω κ...</td>\n",
       "    </tr>\n",
       "  </tbody>\n",
       "</table>\n",
       "</div>"
      ],
      "text/plain": [
       "       Id  Distance                                          Citations\n",
       "0       0       0.0  ἐν ἀρχῇ ἐποίησεν ὁ θεὸς τὸν οὐρανὸν καὶ τὴν γῆ...\n",
       "1     813      14.0  ἐγένετο ᾗ ἡμέρᾳ ἐποίησεν ὁ θεὸς τὸν οὐρανὸν κα...\n",
       "2   51968      14.0  ἐν ἓξ ἡμέραις ἐποίησεν κύριος τὸν οὐρανὸν καὶ ...\n",
       "3  510391      15.0  τὰ παταχρα καὶ ἀναβλέψονται εἰς τὸν οὐρανὸν ἄν...\n",
       "4  510392      15.0  παταχρα καὶ ἀναβλέψονται εἰς τὸν οὐρανὸν ἄνω κ..."
      ]
     },
     "metadata": {},
     "output_type": "display_data"
    }
   ],
   "source": [
    "# Build dataframe with citations corresponding distances \n",
    "citations = pd.DataFrame({'Id':index_mined[0],'Distance':citations_dist,'Citations':citations_char})\n",
    "\n",
    "def filter(data):\n",
    "    length = data['Group'].size\n",
    "    for i in range(length-2):\n",
    "        if (data['Group'][i] == data['Group'][i+1]):\n",
    "            data = data.drop(i+1).reset_index(drop=True)\n",
    "            # data.index[(i+1):] = data.index[(i+1):]-1\n",
    "            # display(data)\n",
    "            return filter(data)\n",
    "    data = data.drop(['index','Group'],axis=1)\n",
    "    return data\n",
    "\n",
    "def consecutive(data):\n",
    "    ide = 0\n",
    "    index =  []\n",
    "    for i in range(len(data)-1):\n",
    "        if (data[i+1]-data[i]) == 1:\n",
    "            index.append(ide)\n",
    "        else: \n",
    "            index.append(ide)\n",
    "            ide += 1\n",
    "    index.append(ide)\n",
    "    return index\n",
    "\n",
    "consecutive_citations = consecutive(np.array(citations['Id']))\n",
    "citations['Group'] = consecutive_citations\n",
    "citations = citations.sort_values(by=['Group','Distance'])\n",
    "# display(citations.drop([0]).reset_index(drop=True))\n",
    "citations = filter(citations.reset_index())\n",
    "display(citations)\n",
    "# consecutive_citations.index(1)\n",
    "# np.where(consecutive_citations == 0)"
   ]
  },
  {
   "cell_type": "code",
   "execution_count": 45,
   "id": "67eb10e1-8c24-4544-8d56-c213f22f286c",
   "metadata": {},
   "outputs": [
    {
     "name": "stdout",
     "output_type": "stream",
     "text": [
      "παταχρα καὶ ἀναβλέψονται εἰς τὸν οὐρανὸν ἄνω καὶ εἰς τὴν γῆν κάτω ἐμβλέψονται καὶ ἰδοὺ θλῖψις καὶ στενοχωρία καὶ σκότος ἀπορία στενὴ καὶ \n"
     ]
    }
   ],
   "source": [
    "# Afficher une portion de texte citant la cible\n",
    "Id_txt = 4\n",
    "print(citations.Citations[Id_txt])"
   ]
  },
  {
   "cell_type": "code",
   "execution_count": 43,
   "id": "15269404-ffd6-48f0-a61f-4dd7f4f487fb",
   "metadata": {
    "scrolled": true
   },
   "outputs": [
    {
     "data": {
      "text/plain": [
       "0    0\n",
       "1    1\n",
       "Name: Id, dtype: int64"
      ]
     },
     "metadata": {},
     "output_type": "display_data"
    },
    {
     "data": {
      "text/html": [
       "<div>\n",
       "<style scoped>\n",
       "    .dataframe tbody tr th:only-of-type {\n",
       "        vertical-align: middle;\n",
       "    }\n",
       "\n",
       "    .dataframe tbody tr th {\n",
       "        vertical-align: top;\n",
       "    }\n",
       "\n",
       "    .dataframe thead th {\n",
       "        text-align: right;\n",
       "    }\n",
       "</style>\n",
       "<table border=\"1\" class=\"dataframe\">\n",
       "  <thead>\n",
       "    <tr style=\"text-align: right;\">\n",
       "      <th></th>\n",
       "      <th>Id</th>\n",
       "      <th>Distance</th>\n",
       "      <th>Citations</th>\n",
       "      <th>Group</th>\n",
       "    </tr>\n",
       "  </thead>\n",
       "  <tbody>\n",
       "    <tr>\n",
       "      <th>0</th>\n",
       "      <td>0</td>\n",
       "      <td>0.0</td>\n",
       "      <td>ἐν ἀρχῇ ἐποίησεν ὁ θεὸς τὸν οὐρανὸν καὶ τὴν γῆ...</td>\n",
       "      <td>0</td>\n",
       "    </tr>\n",
       "    <tr>\n",
       "      <th>1</th>\n",
       "      <td>55</td>\n",
       "      <td>0.0</td>\n",
       "      <td>ἦν ἀόρατος καὶ ἀκατασκεύαστος καὶ σκότος ἐπάν...</td>\n",
       "      <td>1</td>\n",
       "    </tr>\n",
       "  </tbody>\n",
       "</table>\n",
       "</div>"
      ],
      "text/plain": [
       "   Id  Distance                                          Citations  Group\n",
       "0   0       0.0  ἐν ἀρχῇ ἐποίησεν ὁ θεὸς τὸν οὐρανὸν καὶ τὴν γῆ...      0\n",
       "1  55       0.0   ἦν ἀόρατος καὶ ἀκατασκεύαστος καὶ σκότος ἐπάν...      1"
      ]
     },
     "metadata": {},
     "output_type": "display_data"
    }
   ],
   "source": [
    "# group consecutive X\n",
    "g = citations['Id'].diff().gt(1).cumsum() # no need to group here, we'll group later\n",
    "display(g)\n",
    "# filter groups\n",
    "out = citations.groupby(['Id', g]).filter(lambda g: len(g)>=0)#.reset_index(drop=True)\n",
    "display(out)"
   ]
  },
  {
   "cell_type": "code",
   "execution_count": null,
   "id": "b41d45b2-0d9d-42c5-99c2-f666ffd2beab",
   "metadata": {},
   "outputs": [],
   "source": []
  }
 ],
 "metadata": {
  "kernelspec": {
   "display_name": "Python 3 (ipykernel)",
   "language": "python",
   "name": "python3"
  },
  "language_info": {
   "codemirror_mode": {
    "name": "ipython",
    "version": 3
   },
   "file_extension": ".py",
   "mimetype": "text/x-python",
   "name": "python",
   "nbconvert_exporter": "python",
   "pygments_lexer": "ipython3",
   "version": "3.10.12"
  }
 },
 "nbformat": 4,
 "nbformat_minor": 5
}
